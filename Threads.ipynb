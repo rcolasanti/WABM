{
 "cells": [
  {
   "cell_type": "markdown",
   "metadata": {},
   "source": [
    "Adapted from:\n",
    "https://www.tutorialspoint.com/python/python_multithreading.htm"
   ]
  },
  {
   "cell_type": "code",
   "execution_count": 24,
   "metadata": {},
   "outputs": [],
   "source": [
    "import threading\n",
    "import time\n",
    "from random import randint\n"
   ]
  },
  {
   "cell_type": "code",
   "execution_count": 25,
   "metadata": {},
   "outputs": [],
   "source": [
    "class AgentThread (threading.Thread):\n",
    "    def __init__(self, agent):\n",
    "        threading.Thread.__init__(self)\n",
    "        self.agent = agent\n",
    "        self.counter = 0\n",
    "    \n",
    "    def run(self):\n",
    "        self.iterate()\n",
    "        print(\"done #2\")\n",
    "            \n",
    "            \n",
    "    def iterate(self):\n",
    "        while self.agent.run:\n",
    "            self.agent.move()\n",
    "            self.counter+=1\n"
   ]
  },
  {
   "cell_type": "code",
   "execution_count": 26,
   "metadata": {},
   "outputs": [],
   "source": [
    "class ObserverThread (threading.Thread):\n",
    "    def __init__(self, agent):\n",
    "        threading.Thread.__init__(self)\n",
    "        self.agent = agent\n",
    "        self.counter=0\n",
    "    \n",
    "    def run(self):\n",
    "        self.iterate()\n",
    "        print(\"done #1\")\n",
    "    \n",
    "    def iterate(self):\n",
    "        while self.agent.run:\n",
    "            time.sleep(1)\n",
    "            print(self.agent.getPos(),self.counter)\n",
    "            self.counter+=1\n",
    "       \n"
   ]
  },
  {
   "cell_type": "code",
   "execution_count": 27,
   "metadata": {},
   "outputs": [],
   "source": [
    "'Common base class for all agents'\n",
    "class Agent:\n",
    "    agentCount = 0\n",
    "    run = True\n",
    "\n",
    "    def __init__(self, xPos,yPos):\n",
    "        self.xPos =xPos \n",
    "        self.yPos =yPos \n",
    "        Agent.agentCount+=1\n",
    "        \n",
    "   \n",
    "    def move(self):\n",
    "        self.xPos+=randint(-1, 1)\n",
    "        self.yPos+=randint(-1, 1)\n",
    "     \n",
    "    def getPos(self):\n",
    "        return(self.xPos,self.yPos)"
   ]
  },
  {
   "cell_type": "code",
   "execution_count": 28,
   "metadata": {},
   "outputs": [
    {
     "name": "stdout",
     "output_type": "stream",
     "text": [
      "(529, 113) 0\n",
      "(493, 102) 1\n",
      "(615, 233) 2\n",
      "(801, 768) 3\n",
      "(1098, 117) 4\n",
      "(1576, -405) 5\n",
      "(1821, -681) 6\n",
      "(1846, -515) 7\n",
      "(1627, -711) 8\n",
      "(1797, -881) 9\n",
      "(1451, 188) 10\n",
      "(1958, 707) 11\n",
      "(2534, 729) 12\n",
      "(2128, 596) 13\n",
      "(1981, 747) 14\n"
     ]
    }
   ],
   "source": [
    "agent = Agent(0,0)\n",
    "thread1 = AgentThread(agent)\n",
    "thread2 = ObserverThread(agent)\n",
    "\n",
    "# Start new Threads\n",
    "thread1.start()\n",
    "thread2.start()\n",
    "\n"
   ]
  },
  {
   "cell_type": "code",
   "execution_count": 29,
   "metadata": {},
   "outputs": [
    {
     "name": "stdout",
     "output_type": "stream",
     "text": [
      "done #2\n",
      "(1812, 686) 15\n",
      "done #1\n"
     ]
    }
   ],
   "source": [
    "Agent.run=False\n",
    "\n"
   ]
  },
  {
   "cell_type": "code",
   "execution_count": null,
   "metadata": {},
   "outputs": [],
   "source": []
  }
 ],
 "metadata": {
  "kernelspec": {
   "display_name": "Python 3",
   "language": "python",
   "name": "python3"
  },
  "language_info": {
   "codemirror_mode": {
    "name": "ipython",
    "version": 3
   },
   "file_extension": ".py",
   "mimetype": "text/x-python",
   "name": "python",
   "nbconvert_exporter": "python",
   "pygments_lexer": "ipython3",
   "version": "3.5.2"
  }
 },
 "nbformat": 4,
 "nbformat_minor": 2
}
